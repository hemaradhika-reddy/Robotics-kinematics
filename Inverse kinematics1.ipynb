{
  "nbformat": 4,
  "nbformat_minor": 0,
  "metadata": {
    "colab": {
      "provenance": [],
      "collapsed_sections": []
    },
    "kernelspec": {
      "name": "python3",
      "display_name": "Python 3"
    },
    "language_info": {
      "name": "python"
    }
  },
  "cells": [
    {
      "cell_type": "code",
      "execution_count": 1,
      "metadata": {
        "colab": {
          "base_uri": "https://localhost:8080/"
        },
        "id": "vl7YuJViWiFN",
        "outputId": "cc7d7e0f-038c-47fa-eb53-43b2d91a0e3e"
      },
      "outputs": [
        {
          "output_type": "stream",
          "name": "stdout",
          "text": [
            "Looking in indexes: https://pypi.org/simple, https://us-python.pkg.dev/colab-wheels/public/simple/\n",
            "Collecting roboticstoolbox-python\n",
            "  Downloading roboticstoolbox_python-1.0.2-cp37-cp37m-manylinux_2_5_x86_64.manylinux1_x86_64.manylinux_2_12_x86_64.manylinux2010_x86_64.whl (12.9 MB)\n",
            "\u001b[K     |████████████████████████████████| 12.9 MB 12.3 MB/s \n",
            "\u001b[?25hCollecting spatialgeometry~=1.0.0\n",
            "  Downloading spatialgeometry-1.0.1-cp37-cp37m-manylinux_2_5_x86_64.manylinux1_x86_64.manylinux_2_12_x86_64.manylinux2010_x86_64.whl (1.5 MB)\n",
            "\u001b[K     |████████████████████████████████| 1.5 MB 61.1 MB/s \n",
            "\u001b[?25hRequirement already satisfied: scipy in /usr/local/lib/python3.7/dist-packages (from roboticstoolbox-python) (1.7.3)\n",
            "Collecting swift-sim~=1.0.0\n",
            "  Downloading swift_sim-1.0.0-cp37-cp37m-manylinux_2_5_x86_64.manylinux1_x86_64.manylinux_2_12_x86_64.manylinux2010_x86_64.whl (13.5 MB)\n",
            "\u001b[K     |████████████████████████████████| 13.5 MB 57.5 MB/s \n",
            "\u001b[?25hCollecting pgraph-python\n",
            "  Downloading pgraph-python-0.6.1.tar.gz (16 kB)\n",
            "Requirement already satisfied: numpy>=1.17.4 in /usr/local/lib/python3.7/dist-packages (from roboticstoolbox-python) (1.21.6)\n",
            "Collecting rtb-data\n",
            "  Downloading rtb_data-1.0.0-py3-none-any.whl (112.2 MB)\n",
            "\u001b[K     |████████████████████████████████| 112.2 MB 1.1 MB/s \n",
            "\u001b[?25hCollecting ansitable\n",
            "  Downloading ansitable-0.9.7-py3-none-any.whl (14 kB)\n",
            "Collecting progress\n",
            "  Downloading progress-1.6.tar.gz (7.8 kB)\n",
            "Requirement already satisfied: matplotlib in /usr/local/lib/python3.7/dist-packages (from roboticstoolbox-python) (3.2.2)\n",
            "Collecting spatialmath-python~=1.0.0\n",
            "  Downloading spatialmath_python-1.0.3-py3-none-any.whl (183 kB)\n",
            "\u001b[K     |████████████████████████████████| 183 kB 64.5 MB/s \n",
            "\u001b[?25hCollecting colored\n",
            "  Downloading colored-1.4.4.tar.gz (36 kB)\n",
            "Collecting websockets\n",
            "  Downloading websockets-10.4-cp37-cp37m-manylinux_2_5_x86_64.manylinux1_x86_64.manylinux_2_17_x86_64.manylinux2014_x86_64.whl (106 kB)\n",
            "\u001b[K     |████████████████████████████████| 106 kB 89.1 MB/s \n",
            "\u001b[?25hRequirement already satisfied: kiwisolver>=1.0.1 in /usr/local/lib/python3.7/dist-packages (from matplotlib->roboticstoolbox-python) (1.4.4)\n",
            "Requirement already satisfied: python-dateutil>=2.1 in /usr/local/lib/python3.7/dist-packages (from matplotlib->roboticstoolbox-python) (2.8.2)\n",
            "Requirement already satisfied: cycler>=0.10 in /usr/local/lib/python3.7/dist-packages (from matplotlib->roboticstoolbox-python) (0.11.0)\n",
            "Requirement already satisfied: pyparsing!=2.0.4,!=2.1.2,!=2.1.6,>=2.0.1 in /usr/local/lib/python3.7/dist-packages (from matplotlib->roboticstoolbox-python) (3.0.9)\n",
            "Requirement already satisfied: typing-extensions in /usr/local/lib/python3.7/dist-packages (from kiwisolver>=1.0.1->matplotlib->roboticstoolbox-python) (4.1.1)\n",
            "Requirement already satisfied: six>=1.5 in /usr/local/lib/python3.7/dist-packages (from python-dateutil>=2.1->matplotlib->roboticstoolbox-python) (1.15.0)\n",
            "Building wheels for collected packages: colored, pgraph-python, progress\n",
            "  Building wheel for colored (setup.py) ... \u001b[?25l\u001b[?25hdone\n",
            "  Created wheel for colored: filename=colored-1.4.4-py3-none-any.whl size=14268 sha256=23405e261dea575515f050096e6ac4b3a13a8db32dbdde3670b2306ec8e9e8ff\n",
            "  Stored in directory: /root/.cache/pip/wheels/2b/96/97/3ed201ace26d471cdec8a760a4b3cc406a29714c7637b0b336\n",
            "  Building wheel for pgraph-python (setup.py) ... \u001b[?25l\u001b[?25hdone\n",
            "  Created wheel for pgraph-python: filename=pgraph_python-0.6.1-py3-none-any.whl size=11482 sha256=76846666e11bc35d365d67ae62b6c2f2e115755f66062b50da309cfcda74d337\n",
            "  Stored in directory: /root/.cache/pip/wheels/0c/96/4a/6802f53d94902fa9431fe1d0ca769f5da8faee8894188c1fd5\n",
            "  Building wheel for progress (setup.py) ... \u001b[?25l\u001b[?25hdone\n",
            "  Created wheel for progress: filename=progress-1.6-py3-none-any.whl size=9629 sha256=f3301fb4740feb236077065d861e8dfd892004cbcf171921f06ede11d39680f0\n",
            "  Stored in directory: /root/.cache/pip/wheels/8e/d7/61/498d8e27dc11e9805b01eb3539e2ee344436fc226daeb5fe87\n",
            "Successfully built colored pgraph-python progress\n",
            "Installing collected packages: colored, ansitable, spatialmath-python, websockets, spatialgeometry, swift-sim, rtb-data, progress, pgraph-python, roboticstoolbox-python\n",
            "Successfully installed ansitable-0.9.7 colored-1.4.4 pgraph-python-0.6.1 progress-1.6 roboticstoolbox-python-1.0.2 rtb-data-1.0.0 spatialgeometry-1.0.1 spatialmath-python-1.0.3 swift-sim-1.0.0 websockets-10.4\n"
          ]
        }
      ],
      "source": [
        "pip install roboticstoolbox-python"
      ]
    },
    {
      "cell_type": "code",
      "source": [
        "from spatialmath import *\n",
        "from spatialmath.base import *\n",
        "import spatialmath.base.symbolic as sym\n",
        "import numpy as np\n",
        "from matplotlib import pyplot as plt"
      ],
      "metadata": {
        "id": "KJGLrWoRXFb1"
      },
      "execution_count": 4,
      "outputs": []
    },
    {
      "cell_type": "code",
      "source": [
        "## 1st question\n",
        "a = rotx(30,'deg')\n",
        "b = rotz(45,'deg')\n",
        "c = b@a\n",
        "d = np.matrix([[-5, 5, 5]])\n",
        "e = (d.T)\n",
        "print(a)\n",
        "print()\n",
        "print(b)\n",
        "print()\n",
        "print(c)\n",
        "print()\n",
        "print(e)\n",
        "print()\n",
        "print(c@e)"
      ],
      "metadata": {
        "colab": {
          "base_uri": "https://localhost:8080/"
        },
        "id": "u-4DGyUzoiov",
        "outputId": "4838ad55-d416-4276-d3af-05f5bd9c60a8"
      },
      "execution_count": 20,
      "outputs": [
        {
          "output_type": "stream",
          "name": "stdout",
          "text": [
            "[[ 1.         0.         0.       ]\n",
            " [ 0.         0.8660254 -0.5      ]\n",
            " [ 0.         0.5        0.8660254]]\n",
            "\n",
            "[[ 0.70710678 -0.70710678  0.        ]\n",
            " [ 0.70710678  0.70710678  0.        ]\n",
            " [ 0.          0.          1.        ]]\n",
            "\n",
            "[[ 0.70710678 -0.61237244  0.35355339]\n",
            " [ 0.70710678  0.61237244 -0.35355339]\n",
            " [ 0.          0.5         0.8660254 ]]\n",
            "\n",
            "[[-5]\n",
            " [ 5]\n",
            " [ 5]]\n",
            "\n",
            "[[-4.82962913]\n",
            " [-2.24143868]\n",
            " [ 6.83012702]]\n"
          ]
        }
      ]
    },
    {
      "cell_type": "code",
      "source": [
        "### 2nd Question\n",
        "u = roty(30,'deg')\n",
        "v = rotx(30,'deg')\n",
        "w = v@u\n",
        "k = np.matrix([3,5,3])\n",
        "l = (k.T)\n",
        "m = np.linalg.inv(w)\n",
        "b = m@l\n",
        "print(u)\n",
        "print()\n",
        "print(v)\n",
        "print()\n",
        "print(w)\n",
        "print()\n",
        "print(l)\n",
        "print()\n",
        "print(m)\n",
        "print()\n",
        "print(b)"
      ],
      "metadata": {
        "colab": {
          "base_uri": "https://localhost:8080/"
        },
        "id": "0mggWEy0rwpW",
        "outputId": "1ab7eefb-4fb1-437d-d6ce-2c4eb0a723d2"
      },
      "execution_count": 16,
      "outputs": [
        {
          "output_type": "stream",
          "name": "stdout",
          "text": [
            "[[ 0.8660254  0.         0.5      ]\n",
            " [ 0.         1.         0.       ]\n",
            " [-0.5        0.         0.8660254]]\n",
            "\n",
            "[[ 1.         0.         0.       ]\n",
            " [ 0.         0.8660254 -0.5      ]\n",
            " [ 0.         0.5        0.8660254]]\n",
            "\n",
            "[[ 0.8660254  0.         0.5      ]\n",
            " [ 0.25       0.8660254 -0.4330127]\n",
            " [-0.4330127  0.5        0.75     ]]\n",
            "\n",
            "[[3]\n",
            " [5]\n",
            " [3]]\n",
            "\n",
            "[[ 0.8660254  0.25      -0.4330127]\n",
            " [ 0.         0.8660254  0.5      ]\n",
            " [ 0.5       -0.4330127  0.75     ]]\n",
            "\n",
            "[[2.54903811]\n",
            " [5.83012702]\n",
            " [1.58493649]]\n"
          ]
        }
      ]
    },
    {
      "cell_type": "code",
      "source": [
        "##3rd question\n",
        "u = rotx(45,'deg')\n",
        "v = rotz(60,'deg')\n",
        "w = u@v\n",
        "k = np.matrix([-10,10,10])\n",
        "l = (k.T)\n",
        "m = np.linalg.inv(w)\n",
        "b = m@l\n",
        "print(u)\n",
        "print()\n",
        "print(v)\n",
        "print()\n",
        "print(w)\n",
        "print()\n",
        "print(l)\n",
        "print()\n",
        "print(m)\n",
        "print()\n",
        "print(b)"
      ],
      "metadata": {
        "colab": {
          "base_uri": "https://localhost:8080/"
        },
        "id": "norclcyTr5Mg",
        "outputId": "3e339377-ff75-4e57-b8a3-37537ea9ff4e"
      },
      "execution_count": 17,
      "outputs": [
        {
          "output_type": "stream",
          "name": "stdout",
          "text": [
            "[[ 1.          0.          0.        ]\n",
            " [ 0.          0.70710678 -0.70710678]\n",
            " [ 0.          0.70710678  0.70710678]]\n",
            "\n",
            "[[ 0.5       -0.8660254  0.       ]\n",
            " [ 0.8660254  0.5        0.       ]\n",
            " [ 0.         0.         1.       ]]\n",
            "\n",
            "[[ 0.5        -0.8660254   0.        ]\n",
            " [ 0.61237244  0.35355339 -0.70710678]\n",
            " [ 0.61237244  0.35355339  0.70710678]]\n",
            "\n",
            "[[-10]\n",
            " [ 10]\n",
            " [ 10]]\n",
            "\n",
            "[[ 0.5         0.61237244  0.61237244]\n",
            " [-0.8660254   0.35355339  0.35355339]\n",
            " [ 0.         -0.70710678  0.70710678]]\n",
            "\n",
            "[[7.24744871e+00]\n",
            " [1.57313218e+01]\n",
            " [8.88178420e-16]]\n"
          ]
        }
      ]
    },
    {
      "cell_type": "code",
      "source": [
        "### 4th Question\n",
        "u = rotz(60,'deg')\n",
        "v = rotx(30,'deg')\n",
        "w = u@v\n",
        "k = np.matrix([4,4,3])\n",
        "l = (k.T)\n",
        "m = np.linalg.inv(w)\n",
        "b = m@l\n",
        "print(u)\n",
        "print()\n",
        "print(v)\n",
        "print()\n",
        "print(w)\n",
        "print()\n",
        "print(l)\n",
        "print()\n",
        "print(m)\n",
        "print()\n",
        "print(b)"
      ],
      "metadata": {
        "colab": {
          "base_uri": "https://localhost:8080/"
        },
        "id": "8gh3k5q2sXqW",
        "outputId": "7d91b149-a1bb-4fb8-bae3-dbbc569d2aba"
      },
      "execution_count": 18,
      "outputs": [
        {
          "output_type": "stream",
          "name": "stdout",
          "text": [
            "[[ 0.5       -0.8660254  0.       ]\n",
            " [ 0.8660254  0.5        0.       ]\n",
            " [ 0.         0.         1.       ]]\n",
            "\n",
            "[[ 1.         0.         0.       ]\n",
            " [ 0.         0.8660254 -0.5      ]\n",
            " [ 0.         0.5        0.8660254]]\n",
            "\n",
            "[[ 0.5       -0.75       0.4330127]\n",
            " [ 0.8660254  0.4330127 -0.25     ]\n",
            " [ 0.         0.5        0.8660254]]\n",
            "\n",
            "[[4]\n",
            " [4]\n",
            " [3]]\n",
            "\n",
            "[[ 0.5        0.8660254  0.       ]\n",
            " [-0.75       0.4330127  0.5      ]\n",
            " [ 0.4330127 -0.25       0.8660254]]\n",
            "\n",
            "[[5.46410162]\n",
            " [0.23205081]\n",
            " [3.33012702]]\n"
          ]
        }
      ]
    },
    {
      "cell_type": "code",
      "source": [
        "#5th question\n",
        "R1 = SO3.Rx(45,'deg')\n",
        "R2 = SO3.Ry(60,'deg')\n",
        "R3 = SO3.Rz(30,'deg')\n",
        "R = R1*R2*R3    #rotation matrix\n",
        "print('Rotation matrix is : \\n',R)\n",
        "R1 = SE3.Rx(45,'deg')*SE3.Ry(60,'deg')*SE3.Rz(30,'deg')\n",
        "q = SE3(-3,3,6) # translated vector\n",
        "#TRANSFORMATION MATRIX\n",
        "T = q*R1\n",
        "print('homogeneous transformation matrix is:\\n',T)\n",
        "Rinv = np.linalg.inv(R1)\n",
        "qinv = np.linalg.inv(q)\n",
        "Tinv = Rinv@qinv\n",
        "print('inverse homogeneous transformation matrix is:\\n',Tinv)"
      ],
      "metadata": {
        "colab": {
          "base_uri": "https://localhost:8080/"
        },
        "id": "_RzcNpDSXNYV",
        "outputId": "185331ad-31b9-4d35-a7dd-8d742fe4dede"
      },
      "execution_count": 6,
      "outputs": [
        {
          "output_type": "stream",
          "name": "stdout",
          "text": [
            "Rotation matrix is : \n",
            "    0.433    -0.25      0.866     \n",
            "   0.8839    0.3062   -0.3536    \n",
            "  -0.1768    0.9186    0.3536    \n",
            "\n",
            "homogeneous transformation matrix is:\n",
            "    0.433    -0.25      0.866    -3         \n",
            "   0.8839    0.3062   -0.3536    3         \n",
            "  -0.1768    0.9186    0.3536    6         \n",
            "   0         0         0         1         \n",
            "\n",
            "inverse homogeneous transformation matrix is:\n",
            " [[ 0.4330127   0.88388348 -0.1767767  -0.29195215]\n",
            " [-0.25        0.30618622  0.91855865 -7.17991057]\n",
            " [ 0.8660254  -0.35355339  0.35355339  1.53741604]\n",
            " [ 0.          0.          0.          1.        ]]\n"
          ]
        }
      ]
    },
    {
      "cell_type": "code",
      "source": [
        "#question 6\n",
        "R3 = SO3.Ry(60,'deg')\n",
        "R2 = SO3.Rz(45,'deg')\n",
        "R1 = SO3.Ry(30,'deg')\n",
        "R = R3@R2@R1\n",
        "print(R)\n",
        "R1 = SE3.Ry(60,'deg')*SE3.Rz(45,'deg')*SE3.Ry(30,'deg')\n",
        "q = SE3(1,2,-3)\n",
        "T = q*R1\n",
        "print('homogeneous transformation matrix is:\\n',T)\n",
        "pb = np.array([[1, 2, 1,]])\n",
        "pbtrans = (pb.transpose())\n",
        "d = T*pbtrans\n",
        "print(d)"
      ],
      "metadata": {
        "colab": {
          "base_uri": "https://localhost:8080/"
        },
        "id": "oSiw0FHUX6TK",
        "outputId": "ce9983b3-e89f-464b-b986-ce7769312cbc"
      },
      "execution_count": 7,
      "outputs": [
        {
          "output_type": "stream",
          "name": "stdout",
          "text": [
            "  -0.1268   -0.3536    0.9268    \n",
            "   0.6124    0.7071    0.3536    \n",
            "  -0.7803    0.6124    0.1268    \n",
            "\n",
            "homogeneous transformation matrix is:\n",
            "   -0.1268   -0.3536    0.9268    1         \n",
            "   0.6124    0.7071    0.3536    2         \n",
            "  -0.7803    0.6124    0.1268   -3         \n",
            "   0         0         0         1         \n",
            "\n",
            "[[ 1.09284343]\n",
            " [ 4.38013939]\n",
            " [-2.42875873]]\n"
          ]
        }
      ]
    },
    {
      "cell_type": "code",
      "source": [
        "#question 7:\n",
        "R2 = SO3.Rz(45,'deg')\n",
        "R1 = SO3.Rx(90,'deg')\n",
        "R = R2@R1\n",
        "print('Rotation matrix is:\\n',R) # Rotation matrix\n",
        "R1 = SE3.Rz(45,'deg')*SE3.Rx(90,'deg')\n",
        "q = SE3([2,3,1])  # translated vector\n",
        "qinv = np.linalg.inv(q)\n",
        "rinv = np.linalg.inv(R1)\n",
        "tinv = SE3(rinv@qinv)\n",
        "print('inverse homogeneous matix\\n',tinv)\n",
        "pa = np.array([2,2,3]) # Point P wrt frame A\n",
        "at = pa.transpose()\n",
        "pb = at*tinv   \n",
        "print('point p wrt to local coordinate:\\n',pb)"
      ],
      "metadata": {
        "colab": {
          "base_uri": "https://localhost:8080/"
        },
        "id": "73DhH6AcYAKp",
        "outputId": "222629db-d048-449b-be5d-47133c5bb272"
      },
      "execution_count": 8,
      "outputs": [
        {
          "output_type": "stream",
          "name": "stdout",
          "text": [
            "Rotation matrix is:\n",
            "    0.7071    0         0.7071    \n",
            "   0.7071    0        -0.7071    \n",
            "   0         1         0         \n",
            "\n",
            "inverse homogeneous matix\n",
            "    0.7071    0.7071    0        -3.536     \n",
            "   0         0         1        -1         \n",
            "   0.7071   -0.7071    0         0.7071    \n",
            "   0         0         0         1         \n",
            "\n",
            "point p wrt to local coordinate:\n",
            " [[-0.70710678]\n",
            " [ 2.        ]\n",
            " [ 0.70710678]]\n"
          ]
        }
      ]
    },
    {
      "cell_type": "code",
      "source": [
        "# Question8:\n",
        "R1 = SE3.Ry(60,'deg')\n",
        "R2 = SE3.Rz(30,'deg')\n",
        "R = R1@R2\n",
        "print(R)\n",
        "q = SE3([-3,3,-1])\n",
        "qinv = np.linalg.inv(q)\n",
        "rinv = np.linalg.inv(R)\n",
        "tinv = SE3(rinv@qinv)\n",
        "pa = np.array([2,2,1])\n",
        "pat = pa.transpose()\n",
        "pb = pat*tinv\n",
        "print(pb)"
      ],
      "metadata": {
        "colab": {
          "base_uri": "https://localhost:8080/"
        },
        "id": "Hq50kXgKYI-Q",
        "outputId": "361b2157-0123-4e8f-e1ff-a8da6172d2bb"
      },
      "execution_count": 9,
      "outputs": [
        {
          "output_type": "stream",
          "name": "stdout",
          "text": [
            "   0.433    -0.25      0.866     0         \n",
            "   0.5       0.866     0         0         \n",
            "  -0.75      0.433     0.5       0         \n",
            "   0         0         0         1         \n",
            "\n",
            "[[ 0.16506351]\n",
            " [-1.25      ]\n",
            " [ 5.33012702]]\n"
          ]
        }
      ]
    },
    {
      "cell_type": "code",
      "source": [
        "#question9:\n",
        "R = rot2(45,'deg')\n",
        "print(R)\n",
        "c = np.linalg.eig(R)\n",
        "print(c)"
      ],
      "metadata": {
        "colab": {
          "base_uri": "https://localhost:8080/"
        },
        "id": "8J8z1g_BYRAS",
        "outputId": "fe804cb0-220e-4950-d91d-bf72f4702008"
      },
      "execution_count": 10,
      "outputs": [
        {
          "output_type": "stream",
          "name": "stdout",
          "text": [
            "[[ 0.70710678 -0.70710678]\n",
            " [ 0.70710678  0.70710678]]\n",
            "(array([0.70710678+0.70710678j, 0.70710678-0.70710678j]), array([[0.70710678+0.j        , 0.70710678-0.j        ],\n",
            "       [0.        -0.70710678j, 0.        +0.70710678j]]))\n"
          ]
        }
      ]
    },
    {
      "cell_type": "code",
      "source": [
        "### 10th question\n",
        "b = rotx(30,'deg')\n",
        "print(b)\n",
        "d,v = np.linalg.eig(b)\n",
        "print(d)"
      ],
      "metadata": {
        "colab": {
          "base_uri": "https://localhost:8080/"
        },
        "id": "T4EQFMYRpBRN",
        "outputId": "19688c66-dacf-4fb0-eab5-359e781ba8d2"
      },
      "execution_count": 19,
      "outputs": [
        {
          "output_type": "stream",
          "name": "stdout",
          "text": [
            "[[ 1.         0.         0.       ]\n",
            " [ 0.         0.8660254 -0.5      ]\n",
            " [ 0.         0.5        0.8660254]]\n",
            "[0.8660254+0.5j 0.8660254-0.5j 1.       +0.j ]\n"
          ]
        }
      ]
    }
  ]
}