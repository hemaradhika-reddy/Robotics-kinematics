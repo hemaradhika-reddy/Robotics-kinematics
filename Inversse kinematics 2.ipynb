{
 "nbformat": 4,
 "nbformat_minor": 0,
 "metadata": {
  "colab": {
   "provenance": [],
   "collapsed_sections": []
  },
  "kernelspec": {
   "name": "python3",
   "display_name": "Python 3"
  },
  "language_info": {
   "name": "python"
  }
 },
 "cells": [
  {
   "cell_type": "code",
   "execution_count": 1,
   "metadata": {
    "colab": {
     "base_uri": "https://localhost:8080/"
    },
    "id": "6cUba_2Ti5lu",
    "outputId": "26fff0a3-d47b-4049-da58-2356689cd544",
    "pycharm": {
     "name": "#%%\n"
    }
   },
   "outputs": [
    {
     "output_type": "stream",
     "name": "stdout",
     "text": [
      "Looking in indexes: https://pypi.org/simple, https://us-python.pkg.dev/colab-wheels/public/simple/\n",
      "Collecting roboticstoolbox-python\n",
      "  Downloading roboticstoolbox_python-1.0.2-cp37-cp37m-manylinux_2_5_x86_64.manylinux1_x86_64.manylinux_2_12_x86_64.manylinux2010_x86_64.whl (12.9 MB)\n",
      "\u001B[K     |████████████████████████████████| 12.9 MB 5.3 MB/s \n",
      "\u001B[?25hRequirement already satisfied: scipy in /usr/local/lib/python3.7/dist-packages (from roboticstoolbox-python) (1.7.3)\n",
      "Requirement already satisfied: numpy>=1.17.4 in /usr/local/lib/python3.7/dist-packages (from roboticstoolbox-python) (1.21.6)\n",
      "Collecting ansitable\n",
      "  Downloading ansitable-0.9.7-py3-none-any.whl (14 kB)\n",
      "Requirement already satisfied: matplotlib in /usr/local/lib/python3.7/dist-packages (from roboticstoolbox-python) (3.2.2)\n",
      "Collecting pgraph-python\n",
      "  Downloading pgraph-python-0.6.1.tar.gz (16 kB)\n",
      "Collecting spatialmath-python~=1.0.0\n",
      "  Downloading spatialmath_python-1.0.3-py3-none-any.whl (183 kB)\n",
      "\u001B[K     |████████████████████████████████| 183 kB 48.0 MB/s \n",
      "\u001B[?25hCollecting rtb-data\n",
      "  Downloading rtb_data-1.0.0-py3-none-any.whl (112.2 MB)\n",
      "\u001B[K     |████████████████████████████████| 112.2 MB 88 kB/s \n",
      "\u001B[?25hCollecting progress\n",
      "  Downloading progress-1.6.tar.gz (7.8 kB)\n",
      "Collecting spatialgeometry~=1.0.0\n",
      "  Downloading spatialgeometry-1.0.1-cp37-cp37m-manylinux_2_5_x86_64.manylinux1_x86_64.manylinux_2_12_x86_64.manylinux2010_x86_64.whl (1.5 MB)\n",
      "\u001B[K     |████████████████████████████████| 1.5 MB 46.0 MB/s \n",
      "\u001B[?25hCollecting swift-sim~=1.0.0\n",
      "  Downloading swift_sim-1.0.0-cp37-cp37m-manylinux_2_5_x86_64.manylinux1_x86_64.manylinux_2_12_x86_64.manylinux2010_x86_64.whl (13.5 MB)\n",
      "\u001B[K     |████████████████████████████████| 13.5 MB 40.9 MB/s \n",
      "\u001B[?25hCollecting colored\n",
      "  Downloading colored-1.4.4.tar.gz (36 kB)\n",
      "Collecting websockets\n",
      "  Downloading websockets-10.4-cp37-cp37m-manylinux_2_5_x86_64.manylinux1_x86_64.manylinux_2_17_x86_64.manylinux2014_x86_64.whl (106 kB)\n",
      "\u001B[K     |████████████████████████████████| 106 kB 64.4 MB/s \n",
      "\u001B[?25hRequirement already satisfied: python-dateutil>=2.1 in /usr/local/lib/python3.7/dist-packages (from matplotlib->roboticstoolbox-python) (2.8.2)\n",
      "Requirement already satisfied: cycler>=0.10 in /usr/local/lib/python3.7/dist-packages (from matplotlib->roboticstoolbox-python) (0.11.0)\n",
      "Requirement already satisfied: pyparsing!=2.0.4,!=2.1.2,!=2.1.6,>=2.0.1 in /usr/local/lib/python3.7/dist-packages (from matplotlib->roboticstoolbox-python) (3.0.9)\n",
      "Requirement already satisfied: kiwisolver>=1.0.1 in /usr/local/lib/python3.7/dist-packages (from matplotlib->roboticstoolbox-python) (1.4.4)\n",
      "Requirement already satisfied: typing-extensions in /usr/local/lib/python3.7/dist-packages (from kiwisolver>=1.0.1->matplotlib->roboticstoolbox-python) (4.1.1)\n",
      "Requirement already satisfied: six>=1.5 in /usr/local/lib/python3.7/dist-packages (from python-dateutil>=2.1->matplotlib->roboticstoolbox-python) (1.15.0)\n",
      "Building wheels for collected packages: colored, pgraph-python, progress\n",
      "  Building wheel for colored (setup.py) ... \u001B[?25l\u001B[?25hdone\n",
      "  Created wheel for colored: filename=colored-1.4.4-py3-none-any.whl size=14268 sha256=df6928d2313326b18612d3f0636c4093709c8775b7e623442f1ca3363af6d8fb\n",
      "  Stored in directory: /root/.cache/pip/wheels/2b/96/97/3ed201ace26d471cdec8a760a4b3cc406a29714c7637b0b336\n",
      "  Building wheel for pgraph-python (setup.py) ... \u001B[?25l\u001B[?25hdone\n",
      "  Created wheel for pgraph-python: filename=pgraph_python-0.6.1-py3-none-any.whl size=11482 sha256=90498db75d49cf5f8a61548f078e0c3deb4e73d32c637ab1cd93d8f3b4868213\n",
      "  Stored in directory: /root/.cache/pip/wheels/0c/96/4a/6802f53d94902fa9431fe1d0ca769f5da8faee8894188c1fd5\n",
      "  Building wheel for progress (setup.py) ... \u001B[?25l\u001B[?25hdone\n",
      "  Created wheel for progress: filename=progress-1.6-py3-none-any.whl size=9629 sha256=69eca11e53a3bd3258afd524c5cdc233614cb39bae928d64c963a064895c9534\n",
      "  Stored in directory: /root/.cache/pip/wheels/8e/d7/61/498d8e27dc11e9805b01eb3539e2ee344436fc226daeb5fe87\n",
      "Successfully built colored pgraph-python progress\n",
      "Installing collected packages: colored, ansitable, spatialmath-python, websockets, spatialgeometry, swift-sim, rtb-data, progress, pgraph-python, roboticstoolbox-python\n",
      "Successfully installed ansitable-0.9.7 colored-1.4.4 pgraph-python-0.6.1 progress-1.6 roboticstoolbox-python-1.0.2 rtb-data-1.0.0 spatialgeometry-1.0.1 spatialmath-python-1.0.3 swift-sim-1.0.0 websockets-10.4\n"
     ]
    }
   ],
   "source": [
    "pip install roboticstoolbox-python"
   ]
  },
  {
   "cell_type": "code",
   "source": [
    "from spatialmath import *\n",
    "from spatialmath.base import *\n",
    "import spatialmath.base.symbolic as sym\n",
    "import numpy as np\n",
    "from matplotlib import pyplot as plt"
   ],
   "metadata": {
    "id": "fRZEbeVAjl37",
    "pycharm": {
     "name": "#%%\n"
    }
   },
   "execution_count": 6,
   "outputs": []
  },
  {
   "cell_type": "code",
   "source": [
    "###1st question\n",
    "a = sym.symbol('⍺')\n",
    "b = sym.symbol('β') \n",
    "c = sym.symbol('𝛾')\n",
    "rpy_matrix = np.matrix(rpy2r(a,b,c))\n",
    "print(rpy_matrix)"
   ],
   "metadata": {
    "colab": {
     "base_uri": "https://localhost:8080/"
    },
    "id": "jnXIzJgrkHQ_",
    "outputId": "d328d38d-2af4-4f9e-ef4f-5253baa7a5ac",
    "pycharm": {
     "name": "#%%\n"
    }
   },
   "execution_count": 7,
   "outputs": [
    {
     "output_type": "stream",
     "name": "stdout",
     "text": [
      "[[cos(β)*cos(𝛾) sin(β)*sin(⍺)*cos(𝛾) - sin(𝛾)*cos(⍺)\n",
      "  sin(β)*cos(⍺)*cos(𝛾) + sin(⍺)*sin(𝛾)]\n",
      " [sin(𝛾)*cos(β) sin(β)*sin(⍺)*sin(𝛾) + cos(⍺)*cos(𝛾)\n",
      "  sin(β)*sin(𝛾)*cos(⍺) - sin(⍺)*cos(𝛾)]\n",
      " [-sin(β) sin(⍺)*cos(β) cos(β)*cos(⍺)]]\n"
     ]
    }
   ]
  },
  {
   "cell_type": "code",
   "source": [
    "###2nd question\n",
    "a = sym.symbol('⍺')\n",
    "b = sym.symbol('β') \n",
    "c = sym.symbol('𝛾')\n",
    "\n",
    "rpy_matrix = np.matrixrpy2r(a,-90,c,unit = 'deg')\n",
    "print(rpy_matrix)"
   ],
   "metadata": {
    "colab": {
     "base_uri": "https://localhost:8080/",
     "height": 339
    },
    "id": "7YMyWQ5okMZa",
    "outputId": "8712773d-4bc6-4a2c-bc82-9970aaa375e6",
    "pycharm": {
     "name": "#%%\n"
    }
   },
   "execution_count": 9,
   "outputs": [
    {
     "output_type": "error",
     "ename": "AttributeError",
     "evalue": "ignored",
     "traceback": [
      "\u001B[0;31m---------------------------------------------------------------------------\u001B[0m",
      "\u001B[0;31mAttributeError\u001B[0m                            Traceback (most recent call last)",
      "\u001B[0;32m<ipython-input-9-e487cc24a90b>\u001B[0m in \u001B[0;36m<module>\u001B[0;34m\u001B[0m\n\u001B[1;32m      4\u001B[0m \u001B[0mc\u001B[0m \u001B[0;34m=\u001B[0m \u001B[0msym\u001B[0m\u001B[0;34m.\u001B[0m\u001B[0msymbol\u001B[0m\u001B[0;34m(\u001B[0m\u001B[0;34m'𝛾'\u001B[0m\u001B[0;34m)\u001B[0m\u001B[0;34m\u001B[0m\u001B[0;34m\u001B[0m\u001B[0m\n\u001B[1;32m      5\u001B[0m \u001B[0;34m\u001B[0m\u001B[0m\n\u001B[0;32m----> 6\u001B[0;31m \u001B[0mrpy_matrix\u001B[0m \u001B[0;34m=\u001B[0m \u001B[0mnp\u001B[0m\u001B[0;34m.\u001B[0m\u001B[0mmatrixrpy2r\u001B[0m\u001B[0;34m(\u001B[0m\u001B[0ma\u001B[0m\u001B[0;34m,\u001B[0m\u001B[0;34m-\u001B[0m\u001B[0;36m90\u001B[0m\u001B[0;34m,\u001B[0m\u001B[0mc\u001B[0m\u001B[0;34m,\u001B[0m\u001B[0munit\u001B[0m \u001B[0;34m=\u001B[0m \u001B[0;34m'deg'\u001B[0m\u001B[0;34m)\u001B[0m\u001B[0;34m\u001B[0m\u001B[0;34m\u001B[0m\u001B[0m\n\u001B[0m\u001B[1;32m      7\u001B[0m \u001B[0mprint\u001B[0m\u001B[0;34m(\u001B[0m\u001B[0mrpy_matrix\u001B[0m\u001B[0;34m)\u001B[0m\u001B[0;34m\u001B[0m\u001B[0;34m\u001B[0m\u001B[0m\n",
      "\u001B[0;32m/usr/local/lib/python3.7/dist-packages/numpy/__init__.py\u001B[0m in \u001B[0;36m__getattr__\u001B[0;34m(attr)\u001B[0m\n\u001B[1;32m    312\u001B[0m \u001B[0;34m\u001B[0m\u001B[0m\n\u001B[1;32m    313\u001B[0m             raise AttributeError(\"module {!r} has no attribute \"\n\u001B[0;32m--> 314\u001B[0;31m                                  \"{!r}\".format(__name__, attr))\n\u001B[0m\u001B[1;32m    315\u001B[0m \u001B[0;34m\u001B[0m\u001B[0m\n\u001B[1;32m    316\u001B[0m         \u001B[0;32mdef\u001B[0m \u001B[0m__dir__\u001B[0m\u001B[0;34m(\u001B[0m\u001B[0;34m)\u001B[0m\u001B[0;34m:\u001B[0m\u001B[0;34m\u001B[0m\u001B[0;34m\u001B[0m\u001B[0m\n",
      "\u001B[0;31mAttributeError\u001B[0m: module 'numpy' has no attribute 'matrixrpy2r'"
     ]
    }
   ]
  },
  {
   "cell_type": "code",
   "source": [
    "###3rd question\n",
    "a = sym.symbol('⍺')\n",
    "b = sym.symbol('β') \n",
    "c = sym.symbol('𝛾')\n",
    "\n",
    "rpy_zyx = SO3.RPY(a,np.pi/2,c)\n",
    "print(rpy_zyx)\n",
    "print()\n",
    "rpy_zyz = SO3.Rz(a)*SO3.Ry(np.pi/2)*SO3.Rz(c)\n",
    "print(rpy_zyz)"
   ],
   "metadata": {
    "colab": {
     "base_uri": "https://localhost:8080/"
    },
    "id": "HGYBoqzMkklG",
    "outputId": "a77462f1-28c6-44e2-dc73-36778ca97301",
    "pycharm": {
     "name": "#%%\n"
    }
   },
   "execution_count": 10,
   "outputs": [
    {
     "output_type": "stream",
     "name": "stdout",
     "text": [
      "  6.12323399573677e-17*cos(𝛾) 1.0*sin(⍺)*cos(𝛾) - 1.0*sin(𝛾)*cos(⍺) 1.0*sin(⍺)*sin(𝛾) + 1.0*cos(⍺)*cos(𝛾)  \n",
      "  6.12323399573677e-17*sin(𝛾) 1.0*sin(⍺)*sin(𝛾) + 1.0*cos(⍺)*cos(𝛾) -1.0*sin(⍺)*cos(𝛾) + 1.0*sin(𝛾)*cos(⍺)  \n",
      "  -1        6.12323399573677e-17*sin(⍺) 6.12323399573677e-17*cos(⍺)  \n",
      "\n",
      "\n",
      "  -1.0*sin(⍺)*sin(𝛾) + 6.12323399573677e-17*cos(⍺)*cos(𝛾) -1.0*sin(⍺)*cos(𝛾) - 6.12323399573677e-17*sin(𝛾)*cos(⍺) 1.0*cos(⍺)    \n",
      "  6.12323399573677e-17*sin(⍺)*cos(𝛾) + 1.0*sin(𝛾)*cos(⍺) -6.12323399573677e-17*sin(⍺)*sin(𝛾) + 1.0*cos(⍺)*cos(𝛾) 1.0*sin(⍺)    \n",
      "  -1.0*cos(𝛾)  1.0*sin(𝛾)    0         \n",
      "\n"
     ]
    }
   ]
  },
  {
   "cell_type": "code",
   "source": [
    "###7th question\n",
    "x = sym.symbol('x')\n",
    "\n",
    "rpy_matrix = np.matrix([[0.4,x,x],[0.138,x,x],[-0.906,0.224,0.358]])\n",
    "print(rpy_matrix)\n",
    "print()\n",
    "tranform_matrix_2_rpy_angles = tr2rpy(rpy_matrix)\n",
    "print(tranform_matrix_2_rpy_angles)\n",
    "print()\n",
    "new_rpy_matrix = rpy2r(tranform_matrix_2_rpy_angles)\n",
    "print(new_rpy_matrix)"
   ],
   "metadata": {
    "colab": {
     "base_uri": "https://localhost:8080/"
    },
    "id": "fu5T5CpCk2ei",
    "outputId": "aa57c251-8260-41ef-c603-6d5df5f0df02",
    "pycharm": {
     "name": "#%%\n"
    }
   },
   "execution_count": 11,
   "outputs": [
    {
     "output_type": "stream",
     "name": "stdout",
     "text": [
      "[[0.4 x x]\n",
      " [0.138 x x]\n",
      " [-0.906 0.224 0.358]]\n",
      "\n",
      "[0.55910132 1.13386475 0.33221355]\n",
      "\n",
      "[[ 0.400024    0.17783971  0.899085  ]\n",
      " [ 0.13800828  0.95811947 -0.25091989]\n",
      " [-0.90605436  0.22445515  0.35872743]]\n"
     ]
    }
   ]
  },
  {
   "cell_type": "code",
   "source": [
    "###8th question\n",
    "y = sym.symbol('y')\n",
    "b = sym.symbol('β')\n",
    "c = sym.symbol('𝛾')\n",
    "\n",
    "R = np.matrix([[-0.82,y,0],[y,y,y],[y,y,-1]])\n",
    "print(R)\n",
    "print()\n",
    "R1 = SO3.Rz(0,unit = 'deg')*SO3.Ry(b)*SO3.Rz(c)\n",
    "print(R1)\n",
    "rpy2r(0,3.14,0.609)"
   ],
   "metadata": {
    "colab": {
     "base_uri": "https://localhost:8080/"
    },
    "id": "0UIfQxLfk-5Y",
    "outputId": "007b60a5-73dc-4260-e560-512e37eb2fd7",
    "pycharm": {
     "name": "#%%\n"
    }
   },
   "execution_count": 12,
   "outputs": [
    {
     "output_type": "stream",
     "name": "stdout",
     "text": [
      "[[-0.82 y 0]\n",
      " [y y y]\n",
      " [y y -1]]\n",
      "\n",
      "  1.0*cos(β)*cos(𝛾) -1.0*sin(𝛾)*cos(β) 1.0*sin(β)    \n",
      "  1.0*sin(𝛾)   1.0*cos(𝛾)   0             \n",
      "  -1.0*sin(β)*cos(𝛾) 1.0*sin(β)*sin(𝛾) 1.0*cos(β)    \n",
      "\n"
     ]
    },
    {
     "output_type": "execute_result",
     "data": {
      "text/plain": [
       "array([[-8.20219435e-01, -5.72047526e-01,  1.30632653e-03],\n",
       "       [-5.72046800e-01,  8.20220475e-01,  9.11073160e-04],\n",
       "       [-1.59265292e-03,  0.00000000e+00, -9.99998732e-01]])"
      ]
     },
     "metadata": {},
     "execution_count": 12
    }
   ]
  },
  {
   "cell_type": "code",
   "source": [
    "###9th question\n",
    "R = np.matrix([[0.3333,0.9107,0.2440],\n",
    "             [-0.2440,0.3333,0.9107],\n",
    "             [-0.9107,0.2440,0.3333]])\n",
    "\n",
    "[x,e] = np.linalg.eig(R)\n",
    "print(x)\n",
    "print()\n",
    "print(e)\n",
    "print()\n",
    "axis_angle = math.acos((np.trace(R) - 1)/2)\n",
    "print(axis_angle)\n",
    "print()\n",
    "q = UnitQuaternion(rpy2r(axis_angle,axis_angle,axis_angle))\n",
    "print(q)"
   ],
   "metadata": {
    "colab": {
     "base_uri": "https://localhost:8080/",
     "height": 339
    },
    "id": "WX-wpiddlHDv",
    "outputId": "db25ea6c-421d-464a-f60b-04a46115aa15",
    "pycharm": {
     "name": "#%%\n"
    }
   },
   "execution_count": 13,
   "outputs": [
    {
     "output_type": "stream",
     "name": "stdout",
     "text": [
      "[ 0.75125533+0.86386965j  0.75125533-0.86386965j -0.50261066+0.j        ]\n",
      "\n",
      "[[ 0.63276418+0.j          0.63276418-0.j          0.45217565+0.j        ]\n",
      " [ 0.32259785+0.46149244j  0.32259785-0.46149244j -0.59344164+0.j        ]\n",
      " [-0.12017499+0.51780577j -0.12017499-0.51780577j  0.66585599+0.j        ]]\n",
      "\n"
     ]
    },
    {
     "output_type": "error",
     "ename": "NameError",
     "evalue": "ignored",
     "traceback": [
      "\u001B[0;31m---------------------------------------------------------------------------\u001B[0m",
      "\u001B[0;31mNameError\u001B[0m                                 Traceback (most recent call last)",
      "\u001B[0;32m<ipython-input-13-ce41db1d82ab>\u001B[0m in \u001B[0;36m<module>\u001B[0;34m\u001B[0m\n\u001B[1;32m      9\u001B[0m \u001B[0mprint\u001B[0m\u001B[0;34m(\u001B[0m\u001B[0me\u001B[0m\u001B[0;34m)\u001B[0m\u001B[0;34m\u001B[0m\u001B[0;34m\u001B[0m\u001B[0m\n\u001B[1;32m     10\u001B[0m \u001B[0mprint\u001B[0m\u001B[0;34m(\u001B[0m\u001B[0;34m)\u001B[0m\u001B[0;34m\u001B[0m\u001B[0;34m\u001B[0m\u001B[0m\n\u001B[0;32m---> 11\u001B[0;31m \u001B[0maxis_angle\u001B[0m \u001B[0;34m=\u001B[0m \u001B[0mmath\u001B[0m\u001B[0;34m.\u001B[0m\u001B[0macos\u001B[0m\u001B[0;34m(\u001B[0m\u001B[0;34m(\u001B[0m\u001B[0mnp\u001B[0m\u001B[0;34m.\u001B[0m\u001B[0mtrace\u001B[0m\u001B[0;34m(\u001B[0m\u001B[0mR\u001B[0m\u001B[0;34m)\u001B[0m \u001B[0;34m-\u001B[0m \u001B[0;36m1\u001B[0m\u001B[0;34m)\u001B[0m\u001B[0;34m/\u001B[0m\u001B[0;36m2\u001B[0m\u001B[0;34m)\u001B[0m\u001B[0;34m\u001B[0m\u001B[0;34m\u001B[0m\u001B[0m\n\u001B[0m\u001B[1;32m     12\u001B[0m \u001B[0mprint\u001B[0m\u001B[0;34m(\u001B[0m\u001B[0maxis_angle\u001B[0m\u001B[0;34m)\u001B[0m\u001B[0;34m\u001B[0m\u001B[0;34m\u001B[0m\u001B[0m\n\u001B[1;32m     13\u001B[0m \u001B[0mprint\u001B[0m\u001B[0;34m(\u001B[0m\u001B[0;34m)\u001B[0m\u001B[0;34m\u001B[0m\u001B[0;34m\u001B[0m\u001B[0m\n",
      "\u001B[0;31mNameError\u001B[0m: name 'math' is not defined"
     ]
    }
   ]
  }
 ]
}