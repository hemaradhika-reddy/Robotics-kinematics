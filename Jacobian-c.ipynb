{
 "cells": [
  {
   "cell_type": "code",
   "execution_count": 28,
   "id": "bba27797-8041-4888-9cec-a13e4c3ad6fc",
   "metadata": {},
   "outputs": [],
   "source": [
    "from spatialmath import *\n",
    "from spatialmath.base import *\n",
    "import spatialmath.base.symbolic as sym\n",
    "import roboticstoolbox as rtb\n",
    "import numpy as np\n",
    "import sympy"
   ]
  },
  {
   "cell_type": "code",
   "execution_count": 29,
   "id": "36bb0d90-50da-4342-838c-8d1e50102f69",
   "metadata": {},
   "outputs": [],
   "source": [
    "L1 = sym.symbol('L1')\n",
    "L2 = sym.symbol('L2')\n",
    "L3 = sym.symbol('L3')\n",
    "theta1 = sym.symbol('theta1')\n",
    "theta2 = sym.symbol('theta2')\n",
    "theta3 = sym.symbol('theta3')"
   ]
  },
  {
   "cell_type": "code",
   "execution_count": 30,
   "id": "9b29dd70-2627-47ca-926f-7af7af2e1bb6",
   "metadata": {},
   "outputs": [],
   "source": [
    "class Planar2R(rtb.DHRobot):\n",
    "\n",
    "    def __init__(self):\n",
    "        super().__init__(\n",
    "                [\n",
    "                    rtb.RevoluteMDH(),\n",
    "                    rtb.RevoluteMDH(a=L1),\n",
    "                    #rtb.RevoluteMDH(a=1.0),\n",
    "                    rtb.RevoluteMDH(a=L2),\n",
    "                    #rtb.RevoluteMDH(a=1.0),\n",
    "                ], name=\"Planar2R\"\n",
    "                        )"
   ]
  },
  {
   "cell_type": "code",
   "execution_count": 31,
   "id": "bb960c79-50d8-4787-944b-008b9b45d845",
   "metadata": {},
   "outputs": [],
   "source": [
    "class Planar2R_num(rtb.DHRobot):\n",
    "\n",
    "    def __init__(self):\n",
    "        super().__init__(\n",
    "                [\n",
    "                    rtb.RevoluteMDH(),\n",
    "                    rtb.RevoluteMDH(a=1.0),\n",
    "                    rtb.RevoluteMDH(a=1.0),\n",
    "                    #rtb.RevoluteMDH(a=1.0),\n",
    "                    #rtb.RevoluteMDH(a=1.0),\n",
    "                    #rtb.RevoluteMDH(a=1.0),\n",
    "                ], name=\"Planar2R\"\n",
    "                        )"
   ]
  },
  {
   "cell_type": "code",
   "execution_count": 32,
   "id": "7798c87e-f00e-4eac-a2be-1fff7c56f89f",
   "metadata": {},
   "outputs": [],
   "source": [
    "planar2r = Planar2R_num()"
   ]
  },
  {
   "cell_type": "code",
   "execution_count": 33,
   "id": "ca960a8d-899a-4649-b60f-b9d38dd9abce",
   "metadata": {},
   "outputs": [
    {
     "name": "stdout",
     "output_type": "stream",
     "text": [
      "DHRobot: Planar2R, 3 joints (RRR), dynamics, modified DH parameters\n",
      "┏━━━━━┳━━━━━━┳━━━━━┳━━━━━┓\n",
      "┃aⱼ₋₁ ┃ ⍺ⱼ₋₁ ┃ θⱼ  ┃ dⱼ  ┃\n",
      "┣━━━━━╋━━━━━━╋━━━━━╋━━━━━┫\n",
      "┃ 0.0\u001b[0m ┃ 0.0°\u001b[0m ┃  q1\u001b[0m ┃ 0.0\u001b[0m ┃\n",
      "┃ 1.0\u001b[0m ┃ 0.0°\u001b[0m ┃  q2\u001b[0m ┃ 0.0\u001b[0m ┃\n",
      "┃ 1.0\u001b[0m ┃ 0.0°\u001b[0m ┃  q3\u001b[0m ┃ 0.0\u001b[0m ┃\n",
      "┗━━━━━┻━━━━━━┻━━━━━┻━━━━━┛\n",
      "\n"
     ]
    }
   ],
   "source": [
    "print(planar2r)"
   ]
  },
  {
   "cell_type": "code",
   "execution_count": null,
   "id": "7e12daf6-b504-42c1-bad1-00492e9e5506",
   "metadata": {},
   "outputs": [],
   "source": []
  },
  {
   "cell_type": "code",
   "execution_count": 34,
   "id": "b3e2ec39-c865-43fb-a006-6bb8eaa548cb",
   "metadata": {},
   "outputs": [],
   "source": [
    "T_0_2 = planar2r.fkine([60,30,0])"
   ]
  },
  {
   "cell_type": "code",
   "execution_count": 8,
   "id": "579547f2-b7a4-4c07-972f-4ff1dc709d13",
   "metadata": {},
   "outputs": [
    {
     "data": {
      "text/latex": [
       "$\\displaystyle \\left[\\begin{matrix}-1.40048659654433 & 0.589186042498341\\end{matrix}\\right]$"
      ],
      "text/plain": [
       "[-1.40048659654433, 0.589186042498341]"
      ]
     },
     "execution_count": 8,
     "metadata": {},
     "output_type": "execute_result"
    }
   ],
   "source": [
    "sym.simplify(T_0_2.t[:2])"
   ]
  },
  {
   "cell_type": "code",
   "execution_count": 35,
   "id": "bcf8c8e6-967f-4175-af39-56e8ee562575",
   "metadata": {},
   "outputs": [
    {
     "data": {
      "text/plain": [
       "array([[-0.58918604, -0.89399666,  0.        ],\n",
       "       [-1.4004866 , -0.44807362,  0.        ],\n",
       "       [ 0.        ,  0.        ,  0.        ],\n",
       "       [ 0.        ,  0.        ,  0.        ],\n",
       "       [ 0.        ,  0.        ,  0.        ],\n",
       "       [ 1.        ,  1.        ,  1.        ]])"
      ]
     },
     "execution_count": 35,
     "metadata": {},
     "output_type": "execute_result"
    }
   ],
   "source": [
    "planar2r.jacob0([60,30,0])"
   ]
  },
  {
   "cell_type": "code",
   "execution_count": 36,
   "id": "dd6e42b4-8c35-43b4-9dd6-cdcba88ceb82",
   "metadata": {},
   "outputs": [],
   "source": [
    "planar2r = Planar2R()"
   ]
  },
  {
   "cell_type": "code",
   "execution_count": 37,
   "id": "431521d3-a1c0-4028-a29a-3ef88078b798",
   "metadata": {},
   "outputs": [
    {
     "name": "stdout",
     "output_type": "stream",
     "text": [
      "DHRobot: Planar2R, 3 joints (RRR), dynamics, modified DH parameters\n",
      "┏━━━━━┳━━━━━━┳━━━━━┳━━━━━┓\n",
      "┃aⱼ₋₁ ┃ ⍺ⱼ₋₁ ┃ θⱼ  ┃ dⱼ  ┃\n",
      "┣━━━━━╋━━━━━━╋━━━━━╋━━━━━┫\n",
      "┃ 0.0\u001b[0m ┃ 0.0°\u001b[0m ┃  q1\u001b[0m ┃ 0.0\u001b[0m ┃\n",
      "┃  L1\u001b[0m ┃ 0.0°\u001b[0m ┃  q2\u001b[0m ┃ 0.0\u001b[0m ┃\n",
      "┃  L2\u001b[0m ┃ 0.0°\u001b[0m ┃  q3\u001b[0m ┃ 0.0\u001b[0m ┃\n",
      "┗━━━━━┻━━━━━━┻━━━━━┻━━━━━┛\n",
      "\n"
     ]
    }
   ],
   "source": [
    "print(planar2r)"
   ]
  },
  {
   "cell_type": "code",
   "execution_count": 19,
   "id": "612e4967-5d42-4477-8414-afb77f0676b1",
   "metadata": {},
   "outputs": [],
   "source": [
    "T_0_2 = planar2r.fkine([theta1,theta2,0])"
   ]
  },
  {
   "cell_type": "code",
   "execution_count": 20,
   "id": "256cc972-46ae-4bfb-87b3-79e04c4b8d9c",
   "metadata": {},
   "outputs": [
    {
     "data": {
      "text/latex": [
       "$\\displaystyle \\left[\\begin{matrix}L_{1} \\cos{\\left(\\theta_{1} \\right)} + 1.0 L_{2} \\cos{\\left(\\theta_{1} + \\theta_{2} \\right)} & 1.0 L_{1} \\sin{\\left(\\theta_{1} \\right)} + 1.0 L_{2} \\sin{\\left(\\theta_{1} + \\theta_{2} \\right)}\\end{matrix}\\right]$"
      ],
      "text/plain": [
       "[L1*cos(theta1) + 1.0*L2*cos(theta1 + theta2), 1.0*L1*sin(theta1) + 1.0*L2*sin(theta1 + theta2)]"
      ]
     },
     "execution_count": 20,
     "metadata": {},
     "output_type": "execute_result"
    }
   ],
   "source": [
    "sym.simplify(T_0_2.t[:2])"
   ]
  },
  {
   "cell_type": "code",
   "execution_count": 38,
   "id": "6640e06b-8fe7-4585-bbb0-f99452e27776",
   "metadata": {},
   "outputs": [
    {
     "data": {
      "text/latex": [
       "$\\displaystyle \\left[\\begin{matrix}- 1.0 L_{1} \\sin{\\left(\\theta_{1} \\right)} - 1.0 L_{2} \\sin{\\left(\\theta_{1} + \\theta_{2} \\right)} & - 1.0 L_{2} \\sin{\\left(\\theta_{1} + \\theta_{2} \\right)} & 0\\\\1.0 L_{1} \\cos{\\left(\\theta_{1} \\right)} + 1.0 L_{2} \\cos{\\left(\\theta_{1} + \\theta_{2} \\right)} & 1.0 L_{2} \\cos{\\left(\\theta_{1} + \\theta_{2} \\right)} & 0\\\\0 & 0 & 0\\\\0 & 0 & 0\\\\0 & 0 & 0\\\\1.0 & 1.0 & 1.0\\end{matrix}\\right]$"
      ],
      "text/plain": [
       "[[-1.0*L1*sin(theta1) - 1.0*L2*sin(theta1 + theta2), -1.0*L2*sin(theta1 + theta2), 0], [1.0*L1*cos(theta1) + 1.0*L2*cos(theta1 + theta2), 1.0*L2*cos(theta1 + theta2), 0], [0, 0, 0], [0, 0, 0], [0, 0, 0], [1.0, 1.0, 1.0]]"
      ]
     },
     "execution_count": 38,
     "metadata": {},
     "output_type": "execute_result"
    }
   ],
   "source": [
    "sym.simplify(planar2r.jacob0([theta1,theta2,0]))"
   ]
  },
  {
   "cell_type": "code",
   "execution_count": 39,
   "id": "f52ca63b-0fed-42c1-b476-74c8d3f4e328",
   "metadata": {},
   "outputs": [],
   "source": [
    "J = planar2r.jacob0([theta1,theta2,0])[:2,:2]"
   ]
  },
  {
   "cell_type": "code",
   "execution_count": 27,
   "id": "bcd3c5f9-3078-4798-900b-df1d530ffd00",
   "metadata": {},
   "outputs": [
    {
     "data": {
      "text/latex": [
       "$\\displaystyle \\left[\\begin{matrix}- 1.0 L_{1} \\sin{\\left(\\theta_{1} \\right)} - 1.0 L_{2} \\sin{\\left(\\theta_{1} + \\theta_{2} \\right)} & - 1.0 L_{2} \\sin{\\left(\\theta_{1} + \\theta_{2} \\right)}\\\\1.0 L_{1} \\cos{\\left(\\theta_{1} \\right)} + 1.0 L_{2} \\cos{\\left(\\theta_{1} + \\theta_{2} \\right)} & 1.0 L_{2} \\cos{\\left(\\theta_{1} + \\theta_{2} \\right)}\\end{matrix}\\right]$"
      ],
      "text/plain": [
       "[[-1.0*L1*sin(theta1) - 1.0*L2*sin(theta1 + theta2), -1.0*L2*sin(theta1 + theta2)], [1.0*L1*cos(theta1) + 1.0*L2*cos(theta1 + theta2), 1.0*L2*cos(theta1 + theta2)]]"
      ]
     },
     "execution_count": 27,
     "metadata": {},
     "output_type": "execute_result"
    }
   ],
   "source": [
    "sym.simplify(J)"
   ]
  },
  {
   "cell_type": "code",
   "execution_count": 41,
   "id": "a2ffd2fb-9272-46ec-af26-5c2e75d3e480",
   "metadata": {},
   "outputs": [],
   "source": [
    "puma = rtb.models.DH.Puma560()"
   ]
  },
  {
   "cell_type": "code",
   "execution_count": 42,
   "id": "beb8099e-3ef6-47ee-8cf7-78f62efd4e0b",
   "metadata": {
    "tags": []
   },
   "outputs": [
    {
     "name": "stdout",
     "output_type": "stream",
     "text": [
      "DHRobot: Puma 560 (by Unimation), 6 joints (RRRRRR), dynamics, geometry, standard DH parameters\n",
      "┏━━━━┳━━━━━━━━┳━━━━━━━━┳━━━━━━━━┳━━━━━━━━━┳━━━━━━━━┓\n",
      "┃θⱼ  ┃   dⱼ   ┃   aⱼ   ┃   ⍺ⱼ   ┃   q⁻    ┃   q⁺   ┃\n",
      "┣━━━━╋━━━━━━━━╋━━━━━━━━╋━━━━━━━━╋━━━━━━━━━╋━━━━━━━━┫\n",
      "┃ q1\u001b[0m ┃ 0.6718\u001b[0m ┃      0\u001b[0m ┃  90.0°\u001b[0m ┃ -160.0°\u001b[0m ┃ 160.0°\u001b[0m ┃\n",
      "┃ q2\u001b[0m ┃      0\u001b[0m ┃ 0.4318\u001b[0m ┃   0.0°\u001b[0m ┃ -110.0°\u001b[0m ┃ 110.0°\u001b[0m ┃\n",
      "┃ q3\u001b[0m ┃   0.15\u001b[0m ┃ 0.0203\u001b[0m ┃ -90.0°\u001b[0m ┃ -135.0°\u001b[0m ┃ 135.0°\u001b[0m ┃\n",
      "┃ q4\u001b[0m ┃ 0.4318\u001b[0m ┃      0\u001b[0m ┃  90.0°\u001b[0m ┃ -266.0°\u001b[0m ┃ 266.0°\u001b[0m ┃\n",
      "┃ q5\u001b[0m ┃      0\u001b[0m ┃      0\u001b[0m ┃ -90.0°\u001b[0m ┃ -100.0°\u001b[0m ┃ 100.0°\u001b[0m ┃\n",
      "┃ q6\u001b[0m ┃      0\u001b[0m ┃      0\u001b[0m ┃   0.0°\u001b[0m ┃ -266.0°\u001b[0m ┃ 266.0°\u001b[0m ┃\n",
      "┗━━━━┻━━━━━━━━┻━━━━━━━━┻━━━━━━━━┻━━━━━━━━━┻━━━━━━━━┛\n",
      "\n",
      "┌─────┬─────┬──────┬───────┬─────┬──────┬─────┐\n",
      "│name │ q0  │ q1   │ q2    │ q3  │ q4   │ q5  │\n",
      "├─────┼─────┼──────┼───────┼─────┼──────┼─────┤\n",
      "│  qz\u001b[0m │  0°\u001b[0m │  0°\u001b[0m  │  0°\u001b[0m   │  0°\u001b[0m │  0°\u001b[0m  │  0°\u001b[0m │\n",
      "│  qr\u001b[0m │  0°\u001b[0m │  90°\u001b[0m │ -90°\u001b[0m  │  0°\u001b[0m │  0°\u001b[0m  │  0°\u001b[0m │\n",
      "│  qs\u001b[0m │  0°\u001b[0m │  0°\u001b[0m  │ -90°\u001b[0m  │  0°\u001b[0m │  0°\u001b[0m  │  0°\u001b[0m │\n",
      "│  qn\u001b[0m │  0°\u001b[0m │  45°\u001b[0m │  180°\u001b[0m │  0°\u001b[0m │  45°\u001b[0m │  0°\u001b[0m │\n",
      "└─────┴─────┴──────┴───────┴─────┴──────┴─────┘\n",
      "\n"
     ]
    }
   ],
   "source": [
    "print(puma)"
   ]
  },
  {
   "cell_type": "markdown",
   "id": "e209966c-427b-4aa7-aaf6-8843fe6828c0",
   "metadata": {},
   "source": [
    "For computing the Jacobian of 6 DOF robot,the expressions for linear and angular velocities of the end effector form 6 functions and there are 6 unknown thetas, resulting in Jacobian of size 6x6."
   ]
  },
  {
   "cell_type": "code",
   "execution_count": 43,
   "id": "e8dc5967-f16c-4fc1-ae6c-b59fc8a1847d",
   "metadata": {},
   "outputs": [
    {
     "data": {
      "text/latex": [
       "$\\displaystyle \\left[\\begin{matrix}0.15005 & -0.4318 & -0.4318 & 0 & 0 & 0\\\\0.4521 & 2.76831408947259 \\cdot 10^{-17} & 1.24301650113456 \\cdot 10^{-18} & 0 & 0 & 0\\\\0 & 0.4521 & 0.0203 & 0 & 0 & 0\\\\0 & 0 & 0 & 0 & 0 & 0\\\\0 & -1.0 & -1.0 & 0 & -1.0 & 0\\\\1.0 & 6.12323399573677 \\cdot 10^{-17} & 6.12323399573677 \\cdot 10^{-17} & 1.0 & 6.12323399573677 \\cdot 10^{-17} & 1.0\\end{matrix}\\right]$"
      ],
      "text/plain": [
       "[[0.15005, -0.4318, -0.4318, 0, 0, 0], [0.4521, 2.76831408947259e-17, 1.24301650113456e-18, 0, 0, 0], [0, 0.4521, 0.0203, 0, 0, 0], [0, 0, 0, 0, 0, 0], [0, -1.0, -1.0, 0, -1.0, 0], [1.0, 6.12323399573677e-17, 6.12323399573677e-17, 1.0, 6.12323399573677e-17, 1.0]]"
      ]
     },
     "execution_count": 43,
     "metadata": {},
     "output_type": "execute_result"
    }
   ],
   "source": [
    "sym.simplify(puma.jacob0([0,0,0,0,0,0]))"
   ]
  },
  {
   "cell_type": "code",
   "execution_count": 44,
   "id": "901b5f7c-6006-44b2-8bac-43cab5b7a8ce",
   "metadata": {},
   "outputs": [],
   "source": [
    "J = puma.jacob0([0,0,0,0,0,0])"
   ]
  },
  {
   "cell_type": "code",
   "execution_count": 45,
   "id": "690fdf07-eac5-45dc-bafb-353269f49da0",
   "metadata": {},
   "outputs": [
    {
     "data": {
      "text/plain": [
       "0.0"
      ]
     },
     "execution_count": 45,
     "metadata": {},
     "output_type": "execute_result"
    }
   ],
   "source": [
    "np.linalg.det(J)"
   ]
  },
  {
   "cell_type": "code",
   "execution_count": 46,
   "id": "f9b63228-f5a2-4968-9b5d-4e084ff02973",
   "metadata": {},
   "outputs": [
    {
     "data": {
      "text/plain": [
       "5"
      ]
     },
     "execution_count": 46,
     "metadata": {},
     "output_type": "execute_result"
    }
   ],
   "source": [
    "np.linalg.matrix_rank(J)"
   ]
  },
  {
   "cell_type": "markdown",
   "id": "35bffcb0-f56e-4555-bfdb-6e5b41cc0f6b",
   "metadata": {},
   "source": [
    "Null space of the Jacobian matrix is not empty which means one of the columns are dependent. 4th and 6th axes are aligned (4th and 6th columns are same). This is a singularity for 6 dof robots with spherical wrists. **Wrist singularity**. The other singularity is **boundary singularity**."
   ]
  }
 ],
 "metadata": {
  "kernelspec": {
   "display_name": "Python 3",
   "language": "python",
   "name": "python3"
  },
  "language_info": {
   "codemirror_mode": {
    "name": "ipython",
    "version": 3
   },
   "file_extension": ".py",
   "mimetype": "text/x-python",
   "name": "python",
   "nbconvert_exporter": "python",
   "pygments_lexer": "ipython3",
   "version": "3.8.8"
  }
 },
 "nbformat": 4,
 "nbformat_minor": 5
}
